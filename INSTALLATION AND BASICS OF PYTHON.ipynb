{
 "cells": [
  {
   "cell_type": "markdown",
   "id": "6ba64fa0",
   "metadata": {},
   "source": [
    "## BASIC OPERATIONS"
   ]
  },
  {
   "cell_type": "markdown",
   "id": "2c9fe06a",
   "metadata": {},
   "source": [
    "1. ADDITION\n",
    "2. SUBTRACTION\n",
    "3. MULTIPLICATION\n",
    "4. DEVISION\n",
    "5. FLOOR DEVISION\n",
    "6. EXPONENTS\n",
    "7. MODULUS"
   ]
  },
  {
   "cell_type": "code",
   "execution_count": 7,
   "id": "71fae595",
   "metadata": {},
   "outputs": [
    {
     "data": {
      "text/plain": [
       "4"
      ]
     },
     "execution_count": 7,
     "metadata": {},
     "output_type": "execute_result"
    }
   ],
   "source": [
    "2+2"
   ]
  },
  {
   "cell_type": "markdown",
   "id": "9522df97",
   "metadata": {},
   "source": [
    "## ADDITION"
   ]
  },
  {
   "cell_type": "code",
   "execution_count": 8,
   "id": "b424cd40",
   "metadata": {},
   "outputs": [
    {
     "data": {
      "text/plain": [
       "10"
      ]
     },
     "execution_count": 8,
     "metadata": {},
     "output_type": "execute_result"
    }
   ],
   "source": [
    "4+6"
   ]
  },
  {
   "cell_type": "code",
   "execution_count": 9,
   "id": "113fdd10",
   "metadata": {},
   "outputs": [
    {
     "data": {
      "text/plain": [
       "30"
      ]
     },
     "execution_count": 9,
     "metadata": {},
     "output_type": "execute_result"
    }
   ],
   "source": [
    "10+20"
   ]
  },
  {
   "cell_type": "markdown",
   "id": "05f7bf60",
   "metadata": {},
   "source": [
    "## SUBTRACTION"
   ]
  },
  {
   "cell_type": "code",
   "execution_count": 12,
   "id": "e9b07a26",
   "metadata": {},
   "outputs": [
    {
     "data": {
      "text/plain": [
       "0"
      ]
     },
     "execution_count": 12,
     "metadata": {},
     "output_type": "execute_result"
    }
   ],
   "source": [
    "2-2"
   ]
  },
  {
   "cell_type": "code",
   "execution_count": 13,
   "id": "43f4c0e6",
   "metadata": {},
   "outputs": [
    {
     "data": {
      "text/plain": [
       "-1"
      ]
     },
     "execution_count": 13,
     "metadata": {},
     "output_type": "execute_result"
    }
   ],
   "source": [
    "7-8"
   ]
  },
  {
   "cell_type": "code",
   "execution_count": 14,
   "id": "d937e0df",
   "metadata": {},
   "outputs": [
    {
     "data": {
      "text/plain": [
       "10"
      ]
     },
     "execution_count": 14,
     "metadata": {},
     "output_type": "execute_result"
    }
   ],
   "source": [
    "20-10"
   ]
  },
  {
   "cell_type": "markdown",
   "id": "b63cc647",
   "metadata": {},
   "source": [
    "## DIVISION"
   ]
  },
  {
   "cell_type": "code",
   "execution_count": 17,
   "id": "ac77e890",
   "metadata": {},
   "outputs": [
    {
     "data": {
      "text/plain": [
       "0.6666666666666666"
      ]
     },
     "execution_count": 17,
     "metadata": {},
     "output_type": "execute_result"
    }
   ],
   "source": [
    "2/3"
   ]
  },
  {
   "cell_type": "code",
   "execution_count": 18,
   "id": "6f305a14",
   "metadata": {},
   "outputs": [
    {
     "data": {
      "text/plain": [
       "2.0"
      ]
     },
     "execution_count": 18,
     "metadata": {},
     "output_type": "execute_result"
    }
   ],
   "source": [
    "4/2"
   ]
  },
  {
   "cell_type": "code",
   "execution_count": 26,
   "id": "f6153263",
   "metadata": {},
   "outputs": [
    {
     "data": {
      "text/plain": [
       "5.5"
      ]
     },
     "execution_count": 26,
     "metadata": {},
     "output_type": "execute_result"
    }
   ],
   "source": [
    "11/2"
   ]
  },
  {
   "cell_type": "markdown",
   "id": "b36cd0b3",
   "metadata": {},
   "source": [
    "## FLOOR DIVISION"
   ]
  },
  {
   "cell_type": "code",
   "execution_count": 22,
   "id": "5172471b",
   "metadata": {},
   "outputs": [
    {
     "data": {
      "text/plain": [
       "0"
      ]
     },
     "execution_count": 22,
     "metadata": {},
     "output_type": "execute_result"
    }
   ],
   "source": [
    "2//3"
   ]
  },
  {
   "cell_type": "code",
   "execution_count": 28,
   "id": "895f9320",
   "metadata": {},
   "outputs": [
    {
     "data": {
      "text/plain": [
       "2"
      ]
     },
     "execution_count": 28,
     "metadata": {},
     "output_type": "execute_result"
    }
   ],
   "source": [
    "4//2"
   ]
  },
  {
   "cell_type": "code",
   "execution_count": 27,
   "id": "e88414b4",
   "metadata": {},
   "outputs": [
    {
     "data": {
      "text/plain": [
       "2"
      ]
     },
     "execution_count": 27,
     "metadata": {},
     "output_type": "execute_result"
    }
   ],
   "source": [
    "11//4"
   ]
  },
  {
   "cell_type": "markdown",
   "id": "9c256607",
   "metadata": {},
   "source": [
    "## EXPONENTS"
   ]
  },
  {
   "cell_type": "code",
   "execution_count": 31,
   "id": "2c0ab131",
   "metadata": {},
   "outputs": [
    {
     "data": {
      "text/plain": [
       "4"
      ]
     },
     "execution_count": 31,
     "metadata": {},
     "output_type": "execute_result"
    }
   ],
   "source": [
    "2**2"
   ]
  },
  {
   "cell_type": "code",
   "execution_count": 32,
   "id": "606f8ce5",
   "metadata": {},
   "outputs": [
    {
     "data": {
      "text/plain": [
       "16"
      ]
     },
     "execution_count": 32,
     "metadata": {},
     "output_type": "execute_result"
    }
   ],
   "source": [
    "4**2"
   ]
  },
  {
   "cell_type": "code",
   "execution_count": 33,
   "id": "1392dc98",
   "metadata": {},
   "outputs": [
    {
     "data": {
      "text/plain": [
       "8"
      ]
     },
     "execution_count": 33,
     "metadata": {},
     "output_type": "execute_result"
    }
   ],
   "source": [
    "2**3"
   ]
  },
  {
   "cell_type": "markdown",
   "id": "96aaca75",
   "metadata": {},
   "source": [
    "## MODULUS"
   ]
  },
  {
   "cell_type": "code",
   "execution_count": 36,
   "id": "d8bc770a",
   "metadata": {},
   "outputs": [
    {
     "data": {
      "text/plain": [
       "1"
      ]
     },
     "execution_count": 36,
     "metadata": {},
     "output_type": "execute_result"
    }
   ],
   "source": [
    "4%3"
   ]
  },
  {
   "cell_type": "code",
   "execution_count": 37,
   "id": "f0097125",
   "metadata": {},
   "outputs": [
    {
     "data": {
      "text/plain": [
       "0"
      ]
     },
     "execution_count": 37,
     "metadata": {},
     "output_type": "execute_result"
    }
   ],
   "source": [
    "4%2"
   ]
  },
  {
   "cell_type": "code",
   "execution_count": 38,
   "id": "cbc66597",
   "metadata": {},
   "outputs": [
    {
     "data": {
      "text/plain": [
       "1"
      ]
     },
     "execution_count": 38,
     "metadata": {},
     "output_type": "execute_result"
    }
   ],
   "source": [
    "7%3"
   ]
  },
  {
   "cell_type": "markdown",
   "id": "6c1d03a2",
   "metadata": {},
   "source": [
    "## CONDITIONAL STATEMENT"
   ]
  },
  {
   "cell_type": "markdown",
   "id": "098dd443",
   "metadata": {},
   "source": [
    "* EQUAL TO\n",
    "* GREATER THAN\n",
    "* GREATER THAN OR EQUAL TO\n",
    "* LESS THAN\n",
    "* LESS THAN OR EQUAL TO\n"
   ]
  },
  {
   "cell_type": "markdown",
   "id": "11a331c6",
   "metadata": {},
   "source": [
    "## EQUAL TO (=)\n"
   ]
  },
  {
   "cell_type": "code",
   "execution_count": 46,
   "id": "9b0b32b8",
   "metadata": {},
   "outputs": [
    {
     "data": {
      "text/plain": [
       "True"
      ]
     },
     "execution_count": 46,
     "metadata": {},
     "output_type": "execute_result"
    }
   ],
   "source": [
    "2==2"
   ]
  },
  {
   "cell_type": "code",
   "execution_count": 48,
   "id": "5dac8961",
   "metadata": {},
   "outputs": [
    {
     "data": {
      "text/plain": [
       "False"
      ]
     },
     "execution_count": 48,
     "metadata": {},
     "output_type": "execute_result"
    }
   ],
   "source": [
    "2==3"
   ]
  },
  {
   "cell_type": "markdown",
   "id": "19b45d12",
   "metadata": {},
   "source": [
    "## GREATER THAN(>)"
   ]
  },
  {
   "cell_type": "code",
   "execution_count": 51,
   "id": "dd22dfc0",
   "metadata": {},
   "outputs": [
    {
     "data": {
      "text/plain": [
       "False"
      ]
     },
     "execution_count": 51,
     "metadata": {},
     "output_type": "execute_result"
    }
   ],
   "source": [
    "2>3"
   ]
  },
  {
   "cell_type": "code",
   "execution_count": 52,
   "id": "82ebed71",
   "metadata": {},
   "outputs": [
    {
     "data": {
      "text/plain": [
       "True"
      ]
     },
     "execution_count": 52,
     "metadata": {},
     "output_type": "execute_result"
    }
   ],
   "source": [
    "100>20"
   ]
  },
  {
   "cell_type": "markdown",
   "id": "19cdd830",
   "metadata": {},
   "source": [
    "## LESS THAN(<)"
   ]
  },
  {
   "cell_type": "code",
   "execution_count": 55,
   "id": "7679f43b",
   "metadata": {},
   "outputs": [
    {
     "data": {
      "text/plain": [
       "True"
      ]
     },
     "execution_count": 55,
     "metadata": {},
     "output_type": "execute_result"
    }
   ],
   "source": [
    "2<10"
   ]
  },
  {
   "cell_type": "code",
   "execution_count": 56,
   "id": "28b46aac",
   "metadata": {},
   "outputs": [
    {
     "data": {
      "text/plain": [
       "False"
      ]
     },
     "execution_count": 56,
     "metadata": {},
     "output_type": "execute_result"
    }
   ],
   "source": [
    "20<10"
   ]
  },
  {
   "cell_type": "markdown",
   "id": "93004e83",
   "metadata": {},
   "source": [
    "## GREATER THAN OR EQUAL TO(>=)"
   ]
  },
  {
   "cell_type": "code",
   "execution_count": 59,
   "id": "c91319bc",
   "metadata": {},
   "outputs": [
    {
     "data": {
      "text/plain": [
       "False"
      ]
     },
     "execution_count": 59,
     "metadata": {},
     "output_type": "execute_result"
    }
   ],
   "source": [
    "2>=10"
   ]
  },
  {
   "cell_type": "code",
   "execution_count": 60,
   "id": "25f50f6f",
   "metadata": {},
   "outputs": [
    {
     "data": {
      "text/plain": [
       "True"
      ]
     },
     "execution_count": 60,
     "metadata": {},
     "output_type": "execute_result"
    }
   ],
   "source": [
    "20>=10"
   ]
  },
  {
   "cell_type": "markdown",
   "id": "2b2d80ab",
   "metadata": {},
   "source": [
    "## LESS THAN OR EQUAL TO(<=)"
   ]
  },
  {
   "cell_type": "code",
   "execution_count": 63,
   "id": "689f4caa",
   "metadata": {},
   "outputs": [
    {
     "data": {
      "text/plain": [
       "True"
      ]
     },
     "execution_count": 63,
     "metadata": {},
     "output_type": "execute_result"
    }
   ],
   "source": [
    "2<=20"
   ]
  },
  {
   "cell_type": "code",
   "execution_count": 64,
   "id": "2e07e49b",
   "metadata": {},
   "outputs": [
    {
     "data": {
      "text/plain": [
       "False"
      ]
     },
     "execution_count": 64,
     "metadata": {},
     "output_type": "execute_result"
    }
   ],
   "source": [
    "20<=10"
   ]
  },
  {
   "cell_type": "markdown",
   "id": "99b78aa8",
   "metadata": {},
   "source": [
    "## LOGICAL OPERATIONS( AND, OR) "
   ]
  },
  {
   "cell_type": "code",
   "execution_count": 67,
   "id": "4c39a880",
   "metadata": {},
   "outputs": [
    {
     "data": {
      "text/plain": [
       "False"
      ]
     },
     "execution_count": 67,
     "metadata": {},
     "output_type": "execute_result"
    }
   ],
   "source": [
    "2<3 and 2>3"
   ]
  },
  {
   "cell_type": "code",
   "execution_count": 68,
   "id": "a1a95f2c",
   "metadata": {},
   "outputs": [
    {
     "data": {
      "text/plain": [
       "True"
      ]
     },
     "execution_count": 68,
     "metadata": {},
     "output_type": "execute_result"
    }
   ],
   "source": [
    "2<3 or 2>3"
   ]
  },
  {
   "cell_type": "code",
   "execution_count": 72,
   "id": "01b42efe",
   "metadata": {},
   "outputs": [
    {
     "data": {
      "text/plain": [
       "True"
      ]
     },
     "execution_count": 72,
     "metadata": {},
     "output_type": "execute_result"
    }
   ],
   "source": [
    "2>=3 or 2<=3"
   ]
  },
  {
   "cell_type": "markdown",
   "id": "43f96cbd",
   "metadata": {},
   "source": [
    "## COMMENTS"
   ]
  },
  {
   "cell_type": "code",
   "execution_count": 77,
   "id": "f2657b3b",
   "metadata": {},
   "outputs": [],
   "source": [
    "# THIS CLASS IS TITLED CODE WITH KING NASH\n",
    "## THIS CLASS IS DATA ANALYSIS FOR BEGINNERS\n",
    "### PYTHON IS THE EASIEST CODING LANGUAGE "
   ]
  },
  {
   "cell_type": "markdown",
   "id": "583bd64a",
   "metadata": {},
   "source": [
    "## PEMDAS"
   ]
  },
  {
   "cell_type": "code",
   "execution_count": 82,
   "id": "8abc6354",
   "metadata": {},
   "outputs": [
    {
     "data": {
      "text/plain": [
       "11.0"
      ]
     },
     "execution_count": 82,
     "metadata": {},
     "output_type": "execute_result"
    }
   ],
   "source": [
    "2+3*(6/2) #LET'S DO SOME CALCULATIONS"
   ]
  },
  {
   "cell_type": "code",
   "execution_count": 83,
   "id": "9b187f13",
   "metadata": {},
   "outputs": [
    {
     "data": {
      "text/plain": [
       "-25.0"
      ]
     },
     "execution_count": 83,
     "metadata": {},
     "output_type": "execute_result"
    }
   ],
   "source": [
    "2+3-3*(20/2) # IS THIS CLASS INTERESTING"
   ]
  },
  {
   "cell_type": "code",
   "execution_count": 84,
   "id": "4070a04f",
   "metadata": {},
   "outputs": [
    {
     "data": {
      "text/plain": [
       "1.5"
      ]
     },
     "execution_count": 84,
     "metadata": {},
     "output_type": "execute_result"
    }
   ],
   "source": [
    "2-2+6/4 # THE ANSWER IS 1.5 WOW"
   ]
  },
  {
   "cell_type": "markdown",
   "id": "2b7f67c3",
   "metadata": {},
   "source": [
    "## NAMING VARIABLES AND WORKING VARIABLES"
   ]
  },
  {
   "cell_type": "markdown",
   "id": "f5955027",
   "metadata": {},
   "source": [
    "1. naming must start with a letter\n",
    "2. no space, only underscaores\n",
    "3. no basic syntax added to names(=,-,+,%,)"
   ]
  },
  {
   "cell_type": "code",
   "execution_count": 86,
   "id": "831cf6ba",
   "metadata": {},
   "outputs": [],
   "source": [
    "name=\" CODE WITH KING NASH\"\n"
   ]
  },
  {
   "cell_type": "code",
   "execution_count": 88,
   "id": "0640fb13",
   "metadata": {},
   "outputs": [
    {
     "data": {
      "text/plain": [
       "' CODE WITH KING NASH'"
      ]
     },
     "execution_count": 88,
     "metadata": {},
     "output_type": "execute_result"
    }
   ],
   "source": [
    "name"
   ]
  },
  {
   "cell_type": "code",
   "execution_count": 89,
   "id": "042caf9a",
   "metadata": {},
   "outputs": [
    {
     "name": "stdout",
     "output_type": "stream",
     "text": [
      " CODE WITH KING NASH\n"
     ]
    }
   ],
   "source": [
    "print(name)"
   ]
  },
  {
   "cell_type": "code",
   "execution_count": 90,
   "id": "2d8ded15",
   "metadata": {},
   "outputs": [
    {
     "name": "stdout",
     "output_type": "stream",
     "text": [
      "this class is super amazing\n"
     ]
    }
   ],
   "source": [
    "print(\"this class is super amazing\")"
   ]
  },
  {
   "cell_type": "code",
   "execution_count": 91,
   "id": "193bf655",
   "metadata": {},
   "outputs": [
    {
     "data": {
      "text/plain": [
       "5"
      ]
     },
     "execution_count": 91,
     "metadata": {},
     "output_type": "execute_result"
    }
   ],
   "source": [
    "a=2\n",
    "b=3\n",
    "a+b"
   ]
  },
  {
   "cell_type": "code",
   "execution_count": 92,
   "id": "7911a438",
   "metadata": {},
   "outputs": [],
   "source": [
    "name,age, level= \"nash\", 12, 200"
   ]
  },
  {
   "cell_type": "code",
   "execution_count": 93,
   "id": "e0475e3c",
   "metadata": {},
   "outputs": [
    {
     "data": {
      "text/plain": [
       "'nash'"
      ]
     },
     "execution_count": 93,
     "metadata": {},
     "output_type": "execute_result"
    }
   ],
   "source": [
    "name"
   ]
  },
  {
   "cell_type": "code",
   "execution_count": 94,
   "id": "3e0e69f8",
   "metadata": {},
   "outputs": [
    {
     "data": {
      "text/plain": [
       "12"
      ]
     },
     "execution_count": 94,
     "metadata": {},
     "output_type": "execute_result"
    }
   ],
   "source": [
    "age"
   ]
  },
  {
   "cell_type": "code",
   "execution_count": 95,
   "id": "1dae4f35",
   "metadata": {},
   "outputs": [
    {
     "data": {
      "text/plain": [
       "200"
      ]
     },
     "execution_count": 95,
     "metadata": {},
     "output_type": "execute_result"
    }
   ],
   "source": [
    "level"
   ]
  },
  {
   "cell_type": "code",
   "execution_count": 96,
   "id": "149305d2",
   "metadata": {},
   "outputs": [
    {
     "data": {
      "text/plain": [
       "str"
      ]
     },
     "execution_count": 96,
     "metadata": {},
     "output_type": "execute_result"
    }
   ],
   "source": [
    "type(name)"
   ]
  },
  {
   "cell_type": "code",
   "execution_count": 97,
   "id": "70ba9fa5",
   "metadata": {},
   "outputs": [
    {
     "data": {
      "text/plain": [
       "int"
      ]
     },
     "execution_count": 97,
     "metadata": {},
     "output_type": "execute_result"
    }
   ],
   "source": [
    "type(age)"
   ]
  },
  {
   "cell_type": "markdown",
   "id": "b163ab6e",
   "metadata": {},
   "source": [
    "## DATA TYPES "
   ]
  },
  {
   "cell_type": "markdown",
   "id": "94721606",
   "metadata": {},
   "source": [
    "1. STRING\n",
    "2. INTEGER\n",
    "3. FLOAT\n",
    "4. BOOLEAN( TRUE/FALSE)\n",
    "5. LIST\n",
    "6. TUPLE\n",
    "7. DICTIONARY"
   ]
  },
  {
   "cell_type": "markdown",
   "id": "58516b1d",
   "metadata": {},
   "source": [
    "## STRINGS"
   ]
  },
  {
   "cell_type": "code",
   "execution_count": 103,
   "id": "eeb4aed8",
   "metadata": {},
   "outputs": [],
   "source": [
    "name=\"code with king name\""
   ]
  },
  {
   "cell_type": "code",
   "execution_count": 104,
   "id": "820b11aa",
   "metadata": {},
   "outputs": [
    {
     "data": {
      "text/plain": [
       "str"
      ]
     },
     "execution_count": 104,
     "metadata": {},
     "output_type": "execute_result"
    }
   ],
   "source": [
    "type(name)"
   ]
  },
  {
   "cell_type": "code",
   "execution_count": 105,
   "id": "f28651e5",
   "metadata": {},
   "outputs": [
    {
     "data": {
      "text/plain": [
       "'Code with king name'"
      ]
     },
     "execution_count": 105,
     "metadata": {},
     "output_type": "execute_result"
    }
   ],
   "source": [
    "name.capitalize()"
   ]
  },
  {
   "cell_type": "code",
   "execution_count": 106,
   "id": "e80c66f6",
   "metadata": {},
   "outputs": [
    {
     "data": {
      "text/plain": [
       "'CODE WITH KING NAME'"
      ]
     },
     "execution_count": 106,
     "metadata": {},
     "output_type": "execute_result"
    }
   ],
   "source": [
    "name.upper()"
   ]
  },
  {
   "cell_type": "code",
   "execution_count": 109,
   "id": "90ec105e",
   "metadata": {},
   "outputs": [
    {
     "data": {
      "text/plain": [
       "['code', 'with', 'king', 'name']"
      ]
     },
     "execution_count": 109,
     "metadata": {},
     "output_type": "execute_result"
    }
   ],
   "source": [
    "name.split()"
   ]
  },
  {
   "cell_type": "code",
   "execution_count": 114,
   "id": "eedea5c7",
   "metadata": {},
   "outputs": [
    {
     "data": {
      "text/plain": [
       "'c'"
      ]
     },
     "execution_count": 114,
     "metadata": {},
     "output_type": "execute_result"
    }
   ],
   "source": [
    "name[0]"
   ]
  },
  {
   "cell_type": "code",
   "execution_count": 118,
   "id": "549c2119",
   "metadata": {},
   "outputs": [
    {
     "name": "stdout",
     "output_type": "stream",
     "text": [
      "code \n"
     ]
    }
   ],
   "source": [
    "print(name[0:5])"
   ]
  },
  {
   "cell_type": "markdown",
   "id": "1893e1df",
   "metadata": {},
   "source": [
    "## INTEGER"
   ]
  },
  {
   "cell_type": "code",
   "execution_count": 112,
   "id": "ccf5ea38",
   "metadata": {},
   "outputs": [
    {
     "data": {
      "text/plain": [
       "int"
      ]
     },
     "execution_count": 112,
     "metadata": {},
     "output_type": "execute_result"
    }
   ],
   "source": [
    "type(21)"
   ]
  },
  {
   "cell_type": "code",
   "execution_count": 113,
   "id": "4bf37f50",
   "metadata": {},
   "outputs": [
    {
     "data": {
      "text/plain": [
       "int"
      ]
     },
     "execution_count": 113,
     "metadata": {},
     "output_type": "execute_result"
    }
   ],
   "source": [
    "age=12\n",
    "type(age)"
   ]
  },
  {
   "cell_type": "markdown",
   "id": "b9f43bcd",
   "metadata": {},
   "source": [
    "## LIST"
   ]
  },
  {
   "cell_type": "code",
   "execution_count": 120,
   "id": "67de2f78",
   "metadata": {},
   "outputs": [],
   "source": [
    "country=[\"ghana\"]"
   ]
  },
  {
   "cell_type": "code",
   "execution_count": 121,
   "id": "9ed55330",
   "metadata": {},
   "outputs": [
    {
     "data": {
      "text/plain": [
       "list"
      ]
     },
     "execution_count": 121,
     "metadata": {},
     "output_type": "execute_result"
    }
   ],
   "source": [
    "type(country)"
   ]
  },
  {
   "cell_type": "code",
   "execution_count": 130,
   "id": "bbe88d6a",
   "metadata": {},
   "outputs": [],
   "source": [
    "countries=[\"GHANA\",\"NIGERIA\",\"TOGO\",\"BENIN\"]"
   ]
  },
  {
   "cell_type": "code",
   "execution_count": 123,
   "id": "aa7ee3c8",
   "metadata": {},
   "outputs": [
    {
     "data": {
      "text/plain": [
       "list"
      ]
     },
     "execution_count": 123,
     "metadata": {},
     "output_type": "execute_result"
    }
   ],
   "source": [
    "type(countries)"
   ]
  },
  {
   "cell_type": "code",
   "execution_count": 133,
   "id": "dd929d96",
   "metadata": {},
   "outputs": [],
   "source": [
    "countries.append(\"GUINEA\")"
   ]
  },
  {
   "cell_type": "code",
   "execution_count": 134,
   "id": "75ed4a7d",
   "metadata": {},
   "outputs": [
    {
     "data": {
      "text/plain": [
       "['GHANA', 'NIGERIA', 'TOGO', 'BENIN', 'GUINEA']"
      ]
     },
     "execution_count": 134,
     "metadata": {},
     "output_type": "execute_result"
    }
   ],
   "source": [
    "countries"
   ]
  },
  {
   "cell_type": "code",
   "execution_count": 138,
   "id": "7a8e0815",
   "metadata": {},
   "outputs": [],
   "source": [
    "countries.insert(2,\"mali\")"
   ]
  },
  {
   "cell_type": "code",
   "execution_count": 139,
   "id": "434f9590",
   "metadata": {},
   "outputs": [],
   "source": [
    "countries.extend([\"ZAMBIA\",\"NIGER\",\"SA\"])"
   ]
  },
  {
   "cell_type": "code",
   "execution_count": 140,
   "id": "256238b0",
   "metadata": {},
   "outputs": [
    {
     "data": {
      "text/plain": [
       "['GHANA',\n",
       " 'NIGERIA',\n",
       " 'mali',\n",
       " 'TOGO',\n",
       " 'BENIN',\n",
       " 'GUINEA',\n",
       " 'ZAMBIA',\n",
       " 'NIGER',\n",
       " 'SA',\n",
       " 'ZAMBIA',\n",
       " 'NIGER',\n",
       " 'SA']"
      ]
     },
     "execution_count": 140,
     "metadata": {},
     "output_type": "execute_result"
    }
   ],
   "source": [
    "countries"
   ]
  },
  {
   "cell_type": "code",
   "execution_count": 144,
   "id": "d74e1ba6",
   "metadata": {},
   "outputs": [
    {
     "data": {
      "text/plain": [
       "'SA'"
      ]
     },
     "execution_count": 144,
     "metadata": {},
     "output_type": "execute_result"
    }
   ],
   "source": [
    "countries.pop()"
   ]
  },
  {
   "cell_type": "code",
   "execution_count": 145,
   "id": "de5cfff8",
   "metadata": {},
   "outputs": [
    {
     "data": {
      "text/plain": [
       "['GHANA',\n",
       " 'NIGERIA',\n",
       " 'mali',\n",
       " 'TOGO',\n",
       " 'BENIN',\n",
       " 'GUINEA',\n",
       " 'ZAMBIA',\n",
       " 'NIGER',\n",
       " 'SA',\n",
       " 'ZAMBIA',\n",
       " 'NIGER']"
      ]
     },
     "execution_count": 145,
     "metadata": {},
     "output_type": "execute_result"
    }
   ],
   "source": [
    "countries"
   ]
  },
  {
   "cell_type": "code",
   "execution_count": 146,
   "id": "f28a3dca",
   "metadata": {},
   "outputs": [
    {
     "data": {
      "text/plain": [
       "'mali'"
      ]
     },
     "execution_count": 146,
     "metadata": {},
     "output_type": "execute_result"
    }
   ],
   "source": [
    "countries.pop(2)"
   ]
  },
  {
   "cell_type": "code",
   "execution_count": 147,
   "id": "ff62acff",
   "metadata": {},
   "outputs": [
    {
     "data": {
      "text/plain": [
       "['GHANA',\n",
       " 'NIGERIA',\n",
       " 'TOGO',\n",
       " 'BENIN',\n",
       " 'GUINEA',\n",
       " 'ZAMBIA',\n",
       " 'NIGER',\n",
       " 'SA',\n",
       " 'ZAMBIA',\n",
       " 'NIGER']"
      ]
     },
     "execution_count": 147,
     "metadata": {},
     "output_type": "execute_result"
    }
   ],
   "source": [
    "countries"
   ]
  },
  {
   "cell_type": "code",
   "execution_count": 148,
   "id": "8f30887d",
   "metadata": {},
   "outputs": [],
   "source": [
    "countries.reverse()"
   ]
  },
  {
   "cell_type": "code",
   "execution_count": 149,
   "id": "742e46b3",
   "metadata": {},
   "outputs": [
    {
     "data": {
      "text/plain": [
       "['NIGER',\n",
       " 'ZAMBIA',\n",
       " 'SA',\n",
       " 'NIGER',\n",
       " 'ZAMBIA',\n",
       " 'GUINEA',\n",
       " 'BENIN',\n",
       " 'TOGO',\n",
       " 'NIGERIA',\n",
       " 'GHANA']"
      ]
     },
     "execution_count": 149,
     "metadata": {},
     "output_type": "execute_result"
    }
   ],
   "source": [
    "countries"
   ]
  },
  {
   "cell_type": "markdown",
   "id": "e212d9ac",
   "metadata": {},
   "source": [
    "## FINDING INFORMATION ABOUT CODES"
   ]
  },
  {
   "cell_type": "code",
   "execution_count": 142,
   "id": "0b86ef42",
   "metadata": {},
   "outputs": [],
   "source": [
    "?countries.append"
   ]
  },
  {
   "cell_type": "markdown",
   "id": "0a9507c5",
   "metadata": {},
   "source": [
    "## TUPLE"
   ]
  },
  {
   "cell_type": "code",
   "execution_count": 160,
   "id": "c9f559a5",
   "metadata": {},
   "outputs": [],
   "source": [
    "names=(\"nash\",\"king\",\"kofi\",\"dirty\",\"nash\")"
   ]
  },
  {
   "cell_type": "code",
   "execution_count": 161,
   "id": "59b9812b",
   "metadata": {},
   "outputs": [
    {
     "data": {
      "text/plain": [
       "tuple"
      ]
     },
     "execution_count": 161,
     "metadata": {},
     "output_type": "execute_result"
    }
   ],
   "source": [
    "type(names)"
   ]
  },
  {
   "cell_type": "code",
   "execution_count": 162,
   "id": "6ab34cd4",
   "metadata": {},
   "outputs": [
    {
     "data": {
      "text/plain": [
       "2"
      ]
     },
     "execution_count": 162,
     "metadata": {},
     "output_type": "execute_result"
    }
   ],
   "source": [
    "names.count(\"nash\")"
   ]
  },
  {
   "cell_type": "code",
   "execution_count": 165,
   "id": "165010d3",
   "metadata": {},
   "outputs": [
    {
     "data": {
      "text/plain": [
       "0"
      ]
     },
     "execution_count": 165,
     "metadata": {},
     "output_type": "execute_result"
    }
   ],
   "source": [
    "names.index(\"nash\")"
   ]
  },
  {
   "cell_type": "markdown",
   "id": "ef4335de",
   "metadata": {},
   "source": [
    "## DICTIONARY"
   ]
  },
  {
   "cell_type": "code",
   "execution_count": 172,
   "id": "101b7365",
   "metadata": {},
   "outputs": [],
   "source": [
    "student={'name':\"Nash\",\n",
    "        \"sex\":\"male\",\n",
    "        \"age\":23}"
   ]
  },
  {
   "cell_type": "code",
   "execution_count": 173,
   "id": "4b78c675",
   "metadata": {},
   "outputs": [
    {
     "data": {
      "text/plain": [
       "{'name': 'Nash', 'sex': 'male', 'age': 23}"
      ]
     },
     "execution_count": 173,
     "metadata": {},
     "output_type": "execute_result"
    }
   ],
   "source": [
    "student"
   ]
  },
  {
   "cell_type": "code",
   "execution_count": 174,
   "id": "d4a91403",
   "metadata": {},
   "outputs": [
    {
     "data": {
      "text/plain": [
       "dict"
      ]
     },
     "execution_count": 174,
     "metadata": {},
     "output_type": "execute_result"
    }
   ],
   "source": [
    "type(student)"
   ]
  },
  {
   "cell_type": "code",
   "execution_count": 6,
   "id": "83a700c8",
   "metadata": {},
   "outputs": [],
   "source": [
    "students={\"NAME\":[\"Hilda\",\"Nash\",\"David\",\"Blinks\"],\n",
    "         \"SEX\":[\"F\",\"M\",\"M\",\"M\"],\n",
    "         \"AGE\":[23,12,18,29]}"
   ]
  },
  {
   "cell_type": "code",
   "execution_count": 176,
   "id": "8d784352",
   "metadata": {},
   "outputs": [
    {
     "data": {
      "text/plain": [
       "{'NAME': ['Hilda', 'Nash', 'David', 'Blinks'],\n",
       " 'SEX': ['F', 'M', 'M', 'M'],\n",
       " 'AGE': [23, 12, 18, 29]}"
      ]
     },
     "execution_count": 176,
     "metadata": {},
     "output_type": "execute_result"
    }
   ],
   "source": [
    "students"
   ]
  },
  {
   "cell_type": "code",
   "execution_count": 7,
   "id": "ee1316d8",
   "metadata": {},
   "outputs": [
    {
     "data": {
      "text/plain": [
       "['Hilda', 'Nash', 'David', 'Blinks']"
      ]
     },
     "execution_count": 7,
     "metadata": {},
     "output_type": "execute_result"
    }
   ],
   "source": [
    "students[\"NAME\"]"
   ]
  },
  {
   "cell_type": "code",
   "execution_count": 9,
   "id": "06364cd4",
   "metadata": {},
   "outputs": [
    {
     "data": {
      "text/html": [
       "<div>\n",
       "<style scoped>\n",
       "    .dataframe tbody tr th:only-of-type {\n",
       "        vertical-align: middle;\n",
       "    }\n",
       "\n",
       "    .dataframe tbody tr th {\n",
       "        vertical-align: top;\n",
       "    }\n",
       "\n",
       "    .dataframe thead th {\n",
       "        text-align: right;\n",
       "    }\n",
       "</style>\n",
       "<table border=\"1\" class=\"dataframe\">\n",
       "  <thead>\n",
       "    <tr style=\"text-align: right;\">\n",
       "      <th></th>\n",
       "      <th>NAME</th>\n",
       "      <th>SEX</th>\n",
       "      <th>AGE</th>\n",
       "    </tr>\n",
       "  </thead>\n",
       "  <tbody>\n",
       "    <tr>\n",
       "      <th>0</th>\n",
       "      <td>Hilda</td>\n",
       "      <td>F</td>\n",
       "      <td>23</td>\n",
       "    </tr>\n",
       "    <tr>\n",
       "      <th>1</th>\n",
       "      <td>Nash</td>\n",
       "      <td>M</td>\n",
       "      <td>12</td>\n",
       "    </tr>\n",
       "    <tr>\n",
       "      <th>2</th>\n",
       "      <td>David</td>\n",
       "      <td>M</td>\n",
       "      <td>18</td>\n",
       "    </tr>\n",
       "    <tr>\n",
       "      <th>3</th>\n",
       "      <td>Blinks</td>\n",
       "      <td>M</td>\n",
       "      <td>29</td>\n",
       "    </tr>\n",
       "  </tbody>\n",
       "</table>\n",
       "</div>"
      ],
      "text/plain": [
       "     NAME SEX  AGE\n",
       "0   Hilda   F   23\n",
       "1    Nash   M   12\n",
       "2   David   M   18\n",
       "3  Blinks   M   29"
      ]
     },
     "execution_count": 9,
     "metadata": {},
     "output_type": "execute_result"
    }
   ],
   "source": [
    "import pandas as pd\n",
    "pd.DataFrame(students)"
   ]
  },
  {
   "cell_type": "code",
   "execution_count": 187,
   "id": "4fea19cc",
   "metadata": {},
   "outputs": [
    {
     "data": {
      "text/plain": [
       "dict_items([])"
      ]
     },
     "execution_count": 187,
     "metadata": {},
     "output_type": "execute_result"
    }
   ],
   "source": [
    "students.items()"
   ]
  },
  {
   "cell_type": "code",
   "execution_count": 1,
   "id": "ccd696c6",
   "metadata": {},
   "outputs": [],
   "source": [
    "name=[10,10,10]"
   ]
  },
  {
   "cell_type": "code",
   "execution_count": 3,
   "id": "f6ce11d6",
   "metadata": {},
   "outputs": [
    {
     "data": {
      "text/plain": [
       "[10, 10, 10]"
      ]
     },
     "execution_count": 3,
     "metadata": {},
     "output_type": "execute_result"
    }
   ],
   "source": [
    "name"
   ]
  },
  {
   "cell_type": "code",
   "execution_count": null,
   "id": "dcbca322",
   "metadata": {},
   "outputs": [],
   "source": []
  }
 ],
 "metadata": {
  "kernelspec": {
   "display_name": "my-python3",
   "language": "python",
   "name": "my-python3"
  },
  "language_info": {
   "codemirror_mode": {
    "name": "ipython",
    "version": 3
   },
   "file_extension": ".py",
   "mimetype": "text/x-python",
   "name": "python",
   "nbconvert_exporter": "python",
   "pygments_lexer": "ipython3",
   "version": "3.11.5"
  }
 },
 "nbformat": 4,
 "nbformat_minor": 5
}
